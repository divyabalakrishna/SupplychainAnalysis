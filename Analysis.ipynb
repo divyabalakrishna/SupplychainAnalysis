{
 "cells": [
  {
   "cell_type": "code",
   "execution_count": 1,
   "metadata": {
    "collapsed": false
   },
   "outputs": [
    {
     "name": "stdout",
     "output_type": "stream",
     "text": [
      "Populating the interactive namespace from numpy and matplotlib\n"
     ]
    }
   ],
   "source": [
    "import pandas as pd\n",
    "import numpy as np\n",
    "import matplotlib as mp\n",
    "import matplotlib.pyplot as plt\n",
    "import datetime as dt\n",
    "%pylab inline"
   ]
  },
  {
   "cell_type": "code",
   "execution_count": 2,
   "metadata": {
    "collapsed": true
   },
   "outputs": [],
   "source": [
    "import warnings\n",
    "warnings.filterwarnings('ignore')"
   ]
  },
  {
   "cell_type": "code",
   "execution_count": 3,
   "metadata": {
    "collapsed": true
   },
   "outputs": [],
   "source": [
    "df_data = pd.read_csv('fhist00.csv')"
   ]
  },
  {
   "cell_type": "code",
   "execution_count": 4,
   "metadata": {
    "collapsed": false
   },
   "outputs": [
    {
     "data": {
      "text/html": [
       "<div>\n",
       "<table border=\"1\" class=\"dataframe\">\n",
       "  <thead>\n",
       "    <tr style=\"text-align: right;\">\n",
       "      <th></th>\n",
       "      <th>SendingfirmID</th>\n",
       "      <th>ReceivingfirmID</th>\n",
       "      <th>Start date of Transaction</th>\n",
       "      <th>End date of Transaction</th>\n",
       "      <th>Amount Sent in $</th>\n",
       "      <th>Amount Received in $</th>\n",
       "      <th>ColG</th>\n",
       "      <th>ColH</th>\n",
       "      <th>ColI</th>\n",
       "      <th>ColJ</th>\n",
       "      <th>ColK</th>\n",
       "      <th>SomeCode</th>\n",
       "    </tr>\n",
       "  </thead>\n",
       "  <tbody>\n",
       "    <tr>\n",
       "      <th>0</th>\n",
       "      <td>153114</td>\n",
       "      <td>153114</td>\n",
       "      <td>40100</td>\n",
       "      <td>43000</td>\n",
       "      <td>2.29</td>\n",
       "      <td>2.31</td>\n",
       "      <td>0.71</td>\n",
       "      <td>0.00</td>\n",
       "      <td>0</td>\n",
       "      <td>0.000</td>\n",
       "      <td>0.30775</td>\n",
       "      <td>AR</td>\n",
       "    </tr>\n",
       "    <tr>\n",
       "      <th>1</th>\n",
       "      <td>153114</td>\n",
       "      <td>153114</td>\n",
       "      <td>110100</td>\n",
       "      <td>113000</td>\n",
       "      <td>-65744.30</td>\n",
       "      <td>-65744.30</td>\n",
       "      <td>-20232.80</td>\n",
       "      <td>0.00</td>\n",
       "      <td>0</td>\n",
       "      <td>0.000</td>\n",
       "      <td>0.30775</td>\n",
       "      <td>AR</td>\n",
       "    </tr>\n",
       "    <tr>\n",
       "      <th>2</th>\n",
       "      <td>153114</td>\n",
       "      <td>153114</td>\n",
       "      <td>110100</td>\n",
       "      <td>113000</td>\n",
       "      <td>67949.90</td>\n",
       "      <td>67949.90</td>\n",
       "      <td>20232.10</td>\n",
       "      <td>0.00</td>\n",
       "      <td>0</td>\n",
       "      <td>0.000</td>\n",
       "      <td>0.29775</td>\n",
       "      <td>AU</td>\n",
       "    </tr>\n",
       "    <tr>\n",
       "      <th>3</th>\n",
       "      <td>113906</td>\n",
       "      <td>1000019</td>\n",
       "      <td>90100</td>\n",
       "      <td>93000</td>\n",
       "      <td>5113.88</td>\n",
       "      <td>5113.96</td>\n",
       "      <td>1573.82</td>\n",
       "      <td>5.11</td>\n",
       "      <td>0</td>\n",
       "      <td>0.001</td>\n",
       "      <td>0.30775</td>\n",
       "      <td>7A</td>\n",
       "    </tr>\n",
       "    <tr>\n",
       "      <th>4</th>\n",
       "      <td>113906</td>\n",
       "      <td>113906</td>\n",
       "      <td>90100</td>\n",
       "      <td>93000</td>\n",
       "      <td>2988.00</td>\n",
       "      <td>2987.99</td>\n",
       "      <td>855.91</td>\n",
       "      <td>2.99</td>\n",
       "      <td>0</td>\n",
       "      <td>0.001</td>\n",
       "      <td>0.28645</td>\n",
       "      <td>7D</td>\n",
       "    </tr>\n",
       "  </tbody>\n",
       "</table>\n",
       "</div>"
      ],
      "text/plain": [
       "   SendingfirmID  ReceivingfirmID  Start date of Transaction  \\\n",
       "0         153114           153114                      40100   \n",
       "1         153114           153114                     110100   \n",
       "2         153114           153114                     110100   \n",
       "3         113906          1000019                      90100   \n",
       "4         113906           113906                      90100   \n",
       "\n",
       "   End date of Transaction  Amount Sent in $  Amount Received in $      ColG  \\\n",
       "0                    43000              2.29                  2.31      0.71   \n",
       "1                   113000         -65744.30             -65744.30 -20232.80   \n",
       "2                   113000          67949.90              67949.90  20232.10   \n",
       "3                    93000           5113.88               5113.96   1573.82   \n",
       "4                    93000           2988.00               2987.99    855.91   \n",
       "\n",
       "   ColH  ColI   ColJ     ColK SomeCode  \n",
       "0  0.00     0  0.000  0.30775       AR  \n",
       "1  0.00     0  0.000  0.30775       AR  \n",
       "2  0.00     0  0.000  0.29775       AU  \n",
       "3  5.11     0  0.001  0.30775       7A  \n",
       "4  2.99     0  0.001  0.28645       7D  "
      ]
     },
     "execution_count": 4,
     "metadata": {},
     "output_type": "execute_result"
    }
   ],
   "source": [
    "df_data.head(5)"
   ]
  },
  {
   "cell_type": "code",
   "execution_count": 5,
   "metadata": {
    "collapsed": true
   },
   "outputs": [],
   "source": [
    "df_data.columns=['SendingFirmID', 'ReceivingFirmID', 'StartDate', 'EndDate', 'AmountReceived', 'AmountSent', \n",
    "                'ColG', 'ColH', 'ColI', 'ColJ', 'ColK', 'SomeCode']"
   ]
  },
  {
   "cell_type": "code",
   "execution_count": 6,
   "metadata": {
    "collapsed": false
   },
   "outputs": [
    {
     "data": {
      "text/html": [
       "<div>\n",
       "<table border=\"1\" class=\"dataframe\">\n",
       "  <thead>\n",
       "    <tr style=\"text-align: right;\">\n",
       "      <th></th>\n",
       "      <th>SendingFirmID</th>\n",
       "      <th>ReceivingFirmID</th>\n",
       "      <th>StartDate</th>\n",
       "      <th>EndDate</th>\n",
       "      <th>AmountReceived</th>\n",
       "      <th>AmountSent</th>\n",
       "      <th>ColG</th>\n",
       "      <th>ColH</th>\n",
       "      <th>ColI</th>\n",
       "      <th>ColJ</th>\n",
       "      <th>ColK</th>\n",
       "      <th>SomeCode</th>\n",
       "    </tr>\n",
       "  </thead>\n",
       "  <tbody>\n",
       "    <tr>\n",
       "      <th>0</th>\n",
       "      <td>153114</td>\n",
       "      <td>153114</td>\n",
       "      <td>40100</td>\n",
       "      <td>43000</td>\n",
       "      <td>2.29</td>\n",
       "      <td>2.31</td>\n",
       "      <td>0.71</td>\n",
       "      <td>0.00</td>\n",
       "      <td>0</td>\n",
       "      <td>0.000</td>\n",
       "      <td>0.30775</td>\n",
       "      <td>AR</td>\n",
       "    </tr>\n",
       "    <tr>\n",
       "      <th>1</th>\n",
       "      <td>153114</td>\n",
       "      <td>153114</td>\n",
       "      <td>110100</td>\n",
       "      <td>113000</td>\n",
       "      <td>-65744.30</td>\n",
       "      <td>-65744.30</td>\n",
       "      <td>-20232.80</td>\n",
       "      <td>0.00</td>\n",
       "      <td>0</td>\n",
       "      <td>0.000</td>\n",
       "      <td>0.30775</td>\n",
       "      <td>AR</td>\n",
       "    </tr>\n",
       "    <tr>\n",
       "      <th>2</th>\n",
       "      <td>153114</td>\n",
       "      <td>153114</td>\n",
       "      <td>110100</td>\n",
       "      <td>113000</td>\n",
       "      <td>67949.90</td>\n",
       "      <td>67949.90</td>\n",
       "      <td>20232.10</td>\n",
       "      <td>0.00</td>\n",
       "      <td>0</td>\n",
       "      <td>0.000</td>\n",
       "      <td>0.29775</td>\n",
       "      <td>AU</td>\n",
       "    </tr>\n",
       "    <tr>\n",
       "      <th>3</th>\n",
       "      <td>113906</td>\n",
       "      <td>1000019</td>\n",
       "      <td>90100</td>\n",
       "      <td>93000</td>\n",
       "      <td>5113.88</td>\n",
       "      <td>5113.96</td>\n",
       "      <td>1573.82</td>\n",
       "      <td>5.11</td>\n",
       "      <td>0</td>\n",
       "      <td>0.001</td>\n",
       "      <td>0.30775</td>\n",
       "      <td>7A</td>\n",
       "    </tr>\n",
       "    <tr>\n",
       "      <th>4</th>\n",
       "      <td>113906</td>\n",
       "      <td>113906</td>\n",
       "      <td>90100</td>\n",
       "      <td>93000</td>\n",
       "      <td>2988.00</td>\n",
       "      <td>2987.99</td>\n",
       "      <td>855.91</td>\n",
       "      <td>2.99</td>\n",
       "      <td>0</td>\n",
       "      <td>0.001</td>\n",
       "      <td>0.28645</td>\n",
       "      <td>7D</td>\n",
       "    </tr>\n",
       "  </tbody>\n",
       "</table>\n",
       "</div>"
      ],
      "text/plain": [
       "   SendingFirmID  ReceivingFirmID  StartDate  EndDate  AmountReceived  \\\n",
       "0         153114           153114      40100    43000            2.29   \n",
       "1         153114           153114     110100   113000       -65744.30   \n",
       "2         153114           153114     110100   113000        67949.90   \n",
       "3         113906          1000019      90100    93000         5113.88   \n",
       "4         113906           113906      90100    93000         2988.00   \n",
       "\n",
       "   AmountSent      ColG  ColH  ColI   ColJ     ColK SomeCode  \n",
       "0        2.31      0.71  0.00     0  0.000  0.30775       AR  \n",
       "1   -65744.30 -20232.80  0.00     0  0.000  0.30775       AR  \n",
       "2    67949.90  20232.10  0.00     0  0.000  0.29775       AU  \n",
       "3     5113.96   1573.82  5.11     0  0.001  0.30775       7A  \n",
       "4     2987.99    855.91  2.99     0  0.001  0.28645       7D  "
      ]
     },
     "execution_count": 6,
     "metadata": {},
     "output_type": "execute_result"
    }
   ],
   "source": [
    "df_data.head(5)"
   ]
  },
  {
   "cell_type": "code",
   "execution_count": 7,
   "metadata": {
    "collapsed": true
   },
   "outputs": [],
   "source": [
    "df_data['AmountReceived'] = df_data['AmountReceived'].astype(float)"
   ]
  },
  {
   "cell_type": "code",
   "execution_count": 8,
   "metadata": {
    "collapsed": false
   },
   "outputs": [
    {
     "data": {
      "text/html": [
       "<div>\n",
       "<table border=\"1\" class=\"dataframe\">\n",
       "  <thead>\n",
       "    <tr style=\"text-align: right;\">\n",
       "      <th></th>\n",
       "      <th>SendingFirmID</th>\n",
       "      <th>ReceivingFirmID</th>\n",
       "      <th>StartDate</th>\n",
       "      <th>EndDate</th>\n",
       "      <th>AmountReceived</th>\n",
       "      <th>AmountSent</th>\n",
       "      <th>ColG</th>\n",
       "      <th>ColH</th>\n",
       "      <th>ColI</th>\n",
       "      <th>ColJ</th>\n",
       "      <th>ColK</th>\n",
       "      <th>SomeCode</th>\n",
       "      <th>Profit</th>\n",
       "    </tr>\n",
       "  </thead>\n",
       "  <tbody>\n",
       "    <tr>\n",
       "      <th>0</th>\n",
       "      <td>153114</td>\n",
       "      <td>153114</td>\n",
       "      <td>40100</td>\n",
       "      <td>43000</td>\n",
       "      <td>2.29</td>\n",
       "      <td>2.31</td>\n",
       "      <td>0.71</td>\n",
       "      <td>0.00</td>\n",
       "      <td>0</td>\n",
       "      <td>0.000</td>\n",
       "      <td>0.30775</td>\n",
       "      <td>AR</td>\n",
       "      <td>1</td>\n",
       "    </tr>\n",
       "    <tr>\n",
       "      <th>1</th>\n",
       "      <td>153114</td>\n",
       "      <td>153114</td>\n",
       "      <td>110100</td>\n",
       "      <td>113000</td>\n",
       "      <td>-65744.30</td>\n",
       "      <td>-65744.30</td>\n",
       "      <td>-20232.80</td>\n",
       "      <td>0.00</td>\n",
       "      <td>0</td>\n",
       "      <td>0.000</td>\n",
       "      <td>0.30775</td>\n",
       "      <td>AR</td>\n",
       "      <td>0</td>\n",
       "    </tr>\n",
       "    <tr>\n",
       "      <th>2</th>\n",
       "      <td>153114</td>\n",
       "      <td>153114</td>\n",
       "      <td>110100</td>\n",
       "      <td>113000</td>\n",
       "      <td>67949.90</td>\n",
       "      <td>67949.90</td>\n",
       "      <td>20232.10</td>\n",
       "      <td>0.00</td>\n",
       "      <td>0</td>\n",
       "      <td>0.000</td>\n",
       "      <td>0.29775</td>\n",
       "      <td>AU</td>\n",
       "      <td>1</td>\n",
       "    </tr>\n",
       "    <tr>\n",
       "      <th>3</th>\n",
       "      <td>113906</td>\n",
       "      <td>1000019</td>\n",
       "      <td>90100</td>\n",
       "      <td>93000</td>\n",
       "      <td>5113.88</td>\n",
       "      <td>5113.96</td>\n",
       "      <td>1573.82</td>\n",
       "      <td>5.11</td>\n",
       "      <td>0</td>\n",
       "      <td>0.001</td>\n",
       "      <td>0.30775</td>\n",
       "      <td>7A</td>\n",
       "      <td>1</td>\n",
       "    </tr>\n",
       "    <tr>\n",
       "      <th>4</th>\n",
       "      <td>113906</td>\n",
       "      <td>113906</td>\n",
       "      <td>90100</td>\n",
       "      <td>93000</td>\n",
       "      <td>2988.00</td>\n",
       "      <td>2987.99</td>\n",
       "      <td>855.91</td>\n",
       "      <td>2.99</td>\n",
       "      <td>0</td>\n",
       "      <td>0.001</td>\n",
       "      <td>0.28645</td>\n",
       "      <td>7D</td>\n",
       "      <td>1</td>\n",
       "    </tr>\n",
       "  </tbody>\n",
       "</table>\n",
       "</div>"
      ],
      "text/plain": [
       "   SendingFirmID  ReceivingFirmID  StartDate  EndDate  AmountReceived  \\\n",
       "0         153114           153114      40100    43000            2.29   \n",
       "1         153114           153114     110100   113000       -65744.30   \n",
       "2         153114           153114     110100   113000        67949.90   \n",
       "3         113906          1000019      90100    93000         5113.88   \n",
       "4         113906           113906      90100    93000         2988.00   \n",
       "\n",
       "   AmountSent      ColG  ColH  ColI   ColJ     ColK SomeCode  Profit  \n",
       "0        2.31      0.71  0.00     0  0.000  0.30775       AR       1  \n",
       "1   -65744.30 -20232.80  0.00     0  0.000  0.30775       AR       0  \n",
       "2    67949.90  20232.10  0.00     0  0.000  0.29775       AU       1  \n",
       "3     5113.96   1573.82  5.11     0  0.001  0.30775       7A       1  \n",
       "4     2987.99    855.91  2.99     0  0.001  0.28645       7D       1  "
      ]
     },
     "execution_count": 8,
     "metadata": {},
     "output_type": "execute_result"
    }
   ],
   "source": [
    "df_data['Profit'] = np.where(df_data['AmountReceived'] > 0, 1, 0)\n",
    "df_data.head()"
   ]
  },
  {
   "cell_type": "code",
   "execution_count": 9,
   "metadata": {
    "collapsed": false
   },
   "outputs": [
    {
     "data": {
      "text/plain": [
       "<matplotlib.axes._subplots.AxesSubplot at 0xc21e2b0>"
      ]
     },
     "execution_count": 9,
     "metadata": {},
     "output_type": "execute_result"
    },
    {
     "data": {
      "image/png": "[encoded data removed]",
      "text/plain": [
       "<matplotlib.figure.Figure at 0x3e81470>"
      ]
     },
     "metadata": {},
     "output_type": "display_data"
    }
   ],
   "source": [
    "df_data.groupby('Profit').size().plot(kind='bar')"
   ]
  },
  {
   "cell_type": "code",
   "execution_count": 10,
   "metadata": {
    "collapsed": true
   },
   "outputs": [],
   "source": [
    "df_profits = df_data.groupby('SendingFirmID').agg({ 'Profit': {'ProfitCount' : np.sum},\n",
    "                                                    'SendingFirmID': {'SendingFirmIDCount' : 'count'}})\n",
    "\n",
    "df_profits.columns = df_profits.columns.droplevel(0)"
   ]
  },
  {
   "cell_type": "code",
   "execution_count": 11,
   "metadata": {
    "collapsed": false
   },
   "outputs": [
    {
     "data": {
      "text/html": [
       "<div>\n",
       "<table border=\"1\" class=\"dataframe\">\n",
       "  <thead>\n",
       "    <tr style=\"text-align: right;\">\n",
       "      <th></th>\n",
       "      <th>ProfitCount</th>\n",
       "      <th>SendingFirmIDCount</th>\n",
       "    </tr>\n",
       "    <tr>\n",
       "      <th>SendingFirmID</th>\n",
       "      <th></th>\n",
       "      <th></th>\n",
       "    </tr>\n",
       "  </thead>\n",
       "  <tbody>\n",
       "    <tr>\n",
       "      <th>100389</th>\n",
       "      <td>82</td>\n",
       "      <td>106</td>\n",
       "    </tr>\n",
       "    <tr>\n",
       "      <th>100948</th>\n",
       "      <td>213</td>\n",
       "      <td>248</td>\n",
       "    </tr>\n",
       "    <tr>\n",
       "      <th>101059</th>\n",
       "      <td>99</td>\n",
       "      <td>118</td>\n",
       "    </tr>\n",
       "    <tr>\n",
       "      <th>101278</th>\n",
       "      <td>61</td>\n",
       "      <td>62</td>\n",
       "    </tr>\n",
       "    <tr>\n",
       "      <th>102817</th>\n",
       "      <td>75</td>\n",
       "      <td>81</td>\n",
       "    </tr>\n",
       "  </tbody>\n",
       "</table>\n",
       "</div>"
      ],
      "text/plain": [
       "               ProfitCount  SendingFirmIDCount\n",
       "SendingFirmID                                 \n",
       "100389                  82                 106\n",
       "100948                 213                 248\n",
       "101059                  99                 118\n",
       "101278                  61                  62\n",
       "102817                  75                  81"
      ]
     },
     "execution_count": 11,
     "metadata": {},
     "output_type": "execute_result"
    }
   ],
   "source": [
    "df_profits.head()"
   ]
  },
  {
   "cell_type": "code",
   "execution_count": 12,
   "metadata": {
    "collapsed": true
   },
   "outputs": [],
   "source": [
    "df_Ids = df_data[['SendingFirmID', 'ReceivingFirmID']]\n",
    "df_SendingIds = df_data[['SendingFirmID']]"
   ]
  },
  {
   "cell_type": "code",
   "execution_count": 13,
   "metadata": {
    "collapsed": true
   },
   "outputs": [],
   "source": [
    "df_profits_data = df_Ids.join(df_profits, on='SendingFirmID', how='outer')"
   ]
  },
  {
   "cell_type": "code",
   "execution_count": 14,
   "metadata": {
    "collapsed": false
   },
   "outputs": [
    {
     "data": {
      "text/html": [
       "<div>\n",
       "<table border=\"1\" class=\"dataframe\">\n",
       "  <thead>\n",
       "    <tr style=\"text-align: right;\">\n",
       "      <th></th>\n",
       "      <th>SendingFirmID</th>\n",
       "      <th>ReceivingFirmID</th>\n",
       "      <th>ProfitCount</th>\n",
       "      <th>TransactionCount</th>\n",
       "    </tr>\n",
       "  </thead>\n",
       "  <tbody>\n",
       "    <tr>\n",
       "      <th>0</th>\n",
       "      <td>153114</td>\n",
       "      <td>153114</td>\n",
       "      <td>67</td>\n",
       "      <td>86</td>\n",
       "    </tr>\n",
       "    <tr>\n",
       "      <th>1</th>\n",
       "      <td>153114</td>\n",
       "      <td>153114</td>\n",
       "      <td>67</td>\n",
       "      <td>86</td>\n",
       "    </tr>\n",
       "    <tr>\n",
       "      <th>2</th>\n",
       "      <td>153114</td>\n",
       "      <td>153114</td>\n",
       "      <td>67</td>\n",
       "      <td>86</td>\n",
       "    </tr>\n",
       "    <tr>\n",
       "      <th>74</th>\n",
       "      <td>153114</td>\n",
       "      <td>1000019</td>\n",
       "      <td>67</td>\n",
       "      <td>86</td>\n",
       "    </tr>\n",
       "    <tr>\n",
       "      <th>86</th>\n",
       "      <td>153114</td>\n",
       "      <td>153114</td>\n",
       "      <td>67</td>\n",
       "      <td>86</td>\n",
       "    </tr>\n",
       "  </tbody>\n",
       "</table>\n",
       "</div>"
      ],
      "text/plain": [
       "    SendingFirmID  ReceivingFirmID  ProfitCount  TransactionCount\n",
       "0          153114           153114           67                86\n",
       "1          153114           153114           67                86\n",
       "2          153114           153114           67                86\n",
       "74         153114          1000019           67                86\n",
       "86         153114           153114           67                86"
      ]
     },
     "execution_count": 14,
     "metadata": {},
     "output_type": "execute_result"
    }
   ],
   "source": [
    "df_profits_data = df_profits_data.rename(columns={'SendingFirmIDCount': 'TransactionCount'})\n",
    "df_profits_data.head()"
   ]
  },
  {
   "cell_type": "code",
   "execution_count": 15,
   "metadata": {
    "collapsed": true
   },
   "outputs": [],
   "source": [
    "df_profits_data['Profitability'] = df_profits_data['ProfitCount']/df_profits_data['TransactionCount']"
   ]
  },
  {
   "cell_type": "code",
   "execution_count": 16,
   "metadata": {
    "collapsed": false
   },
   "outputs": [
    {
     "data": {
      "text/html": [
       "<div>\n",
       "<table border=\"1\" class=\"dataframe\">\n",
       "  <thead>\n",
       "    <tr style=\"text-align: right;\">\n",
       "      <th></th>\n",
       "      <th>SendingFirmID</th>\n",
       "      <th>ReceivingFirmID</th>\n",
       "      <th>ProfitCount</th>\n",
       "      <th>TransactionCount</th>\n",
       "      <th>Profitability</th>\n",
       "    </tr>\n",
       "  </thead>\n",
       "  <tbody>\n",
       "    <tr>\n",
       "      <th>0</th>\n",
       "      <td>153114</td>\n",
       "      <td>153114</td>\n",
       "      <td>67</td>\n",
       "      <td>86</td>\n",
       "      <td>0.77907</td>\n",
       "    </tr>\n",
       "    <tr>\n",
       "      <th>1</th>\n",
       "      <td>153114</td>\n",
       "      <td>153114</td>\n",
       "      <td>67</td>\n",
       "      <td>86</td>\n",
       "      <td>0.77907</td>\n",
       "    </tr>\n",
       "    <tr>\n",
       "      <th>2</th>\n",
       "      <td>153114</td>\n",
       "      <td>153114</td>\n",
       "      <td>67</td>\n",
       "      <td>86</td>\n",
       "      <td>0.77907</td>\n",
       "    </tr>\n",
       "    <tr>\n",
       "      <th>74</th>\n",
       "      <td>153114</td>\n",
       "      <td>1000019</td>\n",
       "      <td>67</td>\n",
       "      <td>86</td>\n",
       "      <td>0.77907</td>\n",
       "    </tr>\n",
       "    <tr>\n",
       "      <th>86</th>\n",
       "      <td>153114</td>\n",
       "      <td>153114</td>\n",
       "      <td>67</td>\n",
       "      <td>86</td>\n",
       "      <td>0.77907</td>\n",
       "    </tr>\n",
       "  </tbody>\n",
       "</table>\n",
       "</div>"
      ],
      "text/plain": [
       "    SendingFirmID  ReceivingFirmID  ProfitCount  TransactionCount  \\\n",
       "0          153114           153114           67                86   \n",
       "1          153114           153114           67                86   \n",
       "2          153114           153114           67                86   \n",
       "74         153114          1000019           67                86   \n",
       "86         153114           153114           67                86   \n",
       "\n",
       "    Profitability  \n",
       "0         0.77907  \n",
       "1         0.77907  \n",
       "2         0.77907  \n",
       "74        0.77907  \n",
       "86        0.77907  "
      ]
     },
     "execution_count": 16,
     "metadata": {},
     "output_type": "execute_result"
    }
   ],
   "source": [
    "df_profits_data.head()"
   ]
  },
  {
   "cell_type": "code",
   "execution_count": 17,
   "metadata": {
    "collapsed": false
   },
   "outputs": [
    {
     "data": {
      "text/html": [
       "<div>\n",
       "<table border=\"1\" class=\"dataframe\">\n",
       "  <thead>\n",
       "    <tr style=\"text-align: right;\">\n",
       "      <th></th>\n",
       "      <th>SendingFirmID</th>\n",
       "      <th>ReceivingFirmID</th>\n",
       "      <th>ProfitCount</th>\n",
       "      <th>TransactionCount</th>\n",
       "      <th>Profitability</th>\n",
       "    </tr>\n",
       "  </thead>\n",
       "  <tbody>\n",
       "    <tr>\n",
       "      <th>1172</th>\n",
       "      <td>100389</td>\n",
       "      <td>100389</td>\n",
       "      <td>82</td>\n",
       "      <td>106</td>\n",
       "      <td>0.773585</td>\n",
       "    </tr>\n",
       "    <tr>\n",
       "      <th>1173</th>\n",
       "      <td>100389</td>\n",
       "      <td>1000019</td>\n",
       "      <td>82</td>\n",
       "      <td>106</td>\n",
       "      <td>0.773585</td>\n",
       "    </tr>\n",
       "    <tr>\n",
       "      <th>1174</th>\n",
       "      <td>100389</td>\n",
       "      <td>100389</td>\n",
       "      <td>82</td>\n",
       "      <td>106</td>\n",
       "      <td>0.773585</td>\n",
       "    </tr>\n",
       "    <tr>\n",
       "      <th>1175</th>\n",
       "      <td>100389</td>\n",
       "      <td>506862</td>\n",
       "      <td>82</td>\n",
       "      <td>106</td>\n",
       "      <td>0.773585</td>\n",
       "    </tr>\n",
       "    <tr>\n",
       "      <th>1176</th>\n",
       "      <td>100389</td>\n",
       "      <td>152638</td>\n",
       "      <td>82</td>\n",
       "      <td>106</td>\n",
       "      <td>0.773585</td>\n",
       "    </tr>\n",
       "  </tbody>\n",
       "</table>\n",
       "</div>"
      ],
      "text/plain": [
       "      SendingFirmID  ReceivingFirmID  ProfitCount  TransactionCount  \\\n",
       "1172         100389           100389           82               106   \n",
       "1173         100389          1000019           82               106   \n",
       "1174         100389           100389           82               106   \n",
       "1175         100389           506862           82               106   \n",
       "1176         100389           152638           82               106   \n",
       "\n",
       "      Profitability  \n",
       "1172       0.773585  \n",
       "1173       0.773585  \n",
       "1174       0.773585  \n",
       "1175       0.773585  \n",
       "1176       0.773585  "
      ]
     },
     "execution_count": 17,
     "metadata": {},
     "output_type": "execute_result"
    }
   ],
   "source": [
    "df_profits_data[df_profits_data['SendingFirmID']==100389].head(5)"
   ]
  },
  {
   "cell_type": "code",
   "execution_count": 18,
   "metadata": {
    "collapsed": false
   },
   "outputs": [
    {
     "data": {
      "text/html": [
       "<div>\n",
       "<table border=\"1\" class=\"dataframe\">\n",
       "  <thead>\n",
       "    <tr style=\"text-align: right;\">\n",
       "      <th></th>\n",
       "      <th>ProfitCount</th>\n",
       "      <th>TransactionCount</th>\n",
       "      <th>Profitability</th>\n",
       "    </tr>\n",
       "    <tr>\n",
       "      <th>SendingFirmID</th>\n",
       "      <th></th>\n",
       "      <th></th>\n",
       "      <th></th>\n",
       "    </tr>\n",
       "  </thead>\n",
       "  <tbody>\n",
       "    <tr>\n",
       "      <th>100389</th>\n",
       "      <td>82</td>\n",
       "      <td>106</td>\n",
       "      <td>0.773585</td>\n",
       "    </tr>\n",
       "    <tr>\n",
       "      <th>100948</th>\n",
       "      <td>213</td>\n",
       "      <td>248</td>\n",
       "      <td>0.858871</td>\n",
       "    </tr>\n",
       "    <tr>\n",
       "      <th>101059</th>\n",
       "      <td>99</td>\n",
       "      <td>118</td>\n",
       "      <td>0.838983</td>\n",
       "    </tr>\n",
       "    <tr>\n",
       "      <th>101278</th>\n",
       "      <td>61</td>\n",
       "      <td>62</td>\n",
       "      <td>0.983871</td>\n",
       "    </tr>\n",
       "    <tr>\n",
       "      <th>102817</th>\n",
       "      <td>75</td>\n",
       "      <td>81</td>\n",
       "      <td>0.925926</td>\n",
       "    </tr>\n",
       "  </tbody>\n",
       "</table>\n",
       "</div>"
      ],
      "text/plain": [
       "               ProfitCount  TransactionCount  Profitability\n",
       "SendingFirmID                                              \n",
       "100389                  82               106       0.773585\n",
       "100948                 213               248       0.858871\n",
       "101059                  99               118       0.838983\n",
       "101278                  61                62       0.983871\n",
       "102817                  75                81       0.925926"
      ]
     },
     "execution_count": 18,
     "metadata": {},
     "output_type": "execute_result"
    }
   ],
   "source": [
    "df_profits_grouped = df_profits_data.groupby('SendingFirmID')\n",
    "\n",
    "df_firm_profits_info = df_profits_grouped.agg({'TransactionCount' : max,\n",
    "                       'ProfitCount' : max,\n",
    "                       'Profitability' : max})\n",
    "df_firm_profits_info.head()"
   ]
  },
  {
   "cell_type": "code",
   "execution_count": 19,
   "metadata": {
    "collapsed": false
   },
   "outputs": [
    {
     "name": "stdout",
     "output_type": "stream",
     "text": [
      "               ProfitCount  TransactionCount  Profitability\n",
      "SendingFirmID                                              \n",
      "100389                  82               106       0.773585\n",
      "100948                 213               248       0.858871\n",
      "101059                  99               118       0.838983\n",
      "101278                  61                62       0.983871\n",
      "102817                  75                81       0.925926\n",
      "(632, 3)\n"
     ]
    }
   ],
   "source": [
    "print df_firm_profits_info.head()\n",
    "print df_firm_profits_info.shape"
   ]
  },
  {
   "cell_type": "code",
   "execution_count": 20,
   "metadata": {
    "collapsed": false
   },
   "outputs": [
    {
     "data": {
      "text/html": [
       "<div>\n",
       "<table border=\"1\" class=\"dataframe\">\n",
       "  <thead>\n",
       "    <tr style=\"text-align: right;\">\n",
       "      <th></th>\n",
       "      <th>SendingFirmID</th>\n",
       "      <th>ProfitCount</th>\n",
       "      <th>TransactionCount</th>\n",
       "      <th>Profitability</th>\n",
       "    </tr>\n",
       "  </thead>\n",
       "  <tbody>\n",
       "    <tr>\n",
       "      <th>0</th>\n",
       "      <td>153114</td>\n",
       "      <td>67</td>\n",
       "      <td>86</td>\n",
       "      <td>0.77907</td>\n",
       "    </tr>\n",
       "    <tr>\n",
       "      <th>1</th>\n",
       "      <td>153114</td>\n",
       "      <td>67</td>\n",
       "      <td>86</td>\n",
       "      <td>0.77907</td>\n",
       "    </tr>\n",
       "    <tr>\n",
       "      <th>2</th>\n",
       "      <td>153114</td>\n",
       "      <td>67</td>\n",
       "      <td>86</td>\n",
       "      <td>0.77907</td>\n",
       "    </tr>\n",
       "    <tr>\n",
       "      <th>74</th>\n",
       "      <td>153114</td>\n",
       "      <td>67</td>\n",
       "      <td>86</td>\n",
       "      <td>0.77907</td>\n",
       "    </tr>\n",
       "    <tr>\n",
       "      <th>86</th>\n",
       "      <td>153114</td>\n",
       "      <td>67</td>\n",
       "      <td>86</td>\n",
       "      <td>0.77907</td>\n",
       "    </tr>\n",
       "  </tbody>\n",
       "</table>\n",
       "</div>"
      ],
      "text/plain": [
       "    SendingFirmID  ProfitCount  TransactionCount  Profitability\n",
       "0          153114           67                86        0.77907\n",
       "1          153114           67                86        0.77907\n",
       "2          153114           67                86        0.77907\n",
       "74         153114           67                86        0.77907\n",
       "86         153114           67                86        0.77907"
      ]
     },
     "execution_count": 20,
     "metadata": {},
     "output_type": "execute_result"
    }
   ],
   "source": [
    "df_firm_profits_info = df_SendingIds.join(df_firm_profits_info, on='SendingFirmID', how='right')\n",
    "df_firm_profits_info.head()"
   ]
  },
  {
   "cell_type": "code",
   "execution_count": 21,
   "metadata": {
    "collapsed": false
   },
   "outputs": [
    {
     "data": {
      "text/html": [
       "<div>\n",
       "<table border=\"1\" class=\"dataframe\">\n",
       "  <thead>\n",
       "    <tr style=\"text-align: right;\">\n",
       "      <th></th>\n",
       "      <th>SendingFirmID</th>\n",
       "      <th>ProfitCount</th>\n",
       "      <th>TransactionCount</th>\n",
       "      <th>Profitability</th>\n",
       "    </tr>\n",
       "  </thead>\n",
       "  <tbody>\n",
       "    <tr>\n",
       "      <th>5210</th>\n",
       "      <td>153114</td>\n",
       "      <td>67</td>\n",
       "      <td>86</td>\n",
       "      <td>0.779070</td>\n",
       "    </tr>\n",
       "    <tr>\n",
       "      <th>5320</th>\n",
       "      <td>113906</td>\n",
       "      <td>56</td>\n",
       "      <td>79</td>\n",
       "      <td>0.708861</td>\n",
       "    </tr>\n",
       "    <tr>\n",
       "      <th>4967</th>\n",
       "      <td>106483</td>\n",
       "      <td>142</td>\n",
       "      <td>161</td>\n",
       "      <td>0.881988</td>\n",
       "    </tr>\n",
       "    <tr>\n",
       "      <th>5191</th>\n",
       "      <td>260083</td>\n",
       "      <td>52</td>\n",
       "      <td>63</td>\n",
       "      <td>0.825397</td>\n",
       "    </tr>\n",
       "    <tr>\n",
       "      <th>5327</th>\n",
       "      <td>2003821</td>\n",
       "      <td>47</td>\n",
       "      <td>69</td>\n",
       "      <td>0.681159</td>\n",
       "    </tr>\n",
       "  </tbody>\n",
       "</table>\n",
       "</div>"
      ],
      "text/plain": [
       "      SendingFirmID  ProfitCount  TransactionCount  Profitability\n",
       "5210         153114           67                86       0.779070\n",
       "5320         113906           56                79       0.708861\n",
       "4967         106483          142               161       0.881988\n",
       "5191         260083           52                63       0.825397\n",
       "5327        2003821           47                69       0.681159"
      ]
     },
     "execution_count": 21,
     "metadata": {},
     "output_type": "execute_result"
    }
   ],
   "source": [
    "df_firm_profits_info = df_firm_profits_info.drop_duplicates(subset='SendingFirmID', take_last=True)\n",
    "df_firm_profits_info.head()"
   ]
  },
  {
   "cell_type": "code",
   "execution_count": 22,
   "metadata": {
    "collapsed": false
   },
   "outputs": [
    {
     "data": {
      "text/html": [
       "<div>\n",
       "<table border=\"1\" class=\"dataframe\">\n",
       "  <thead>\n",
       "    <tr style=\"text-align: right;\">\n",
       "      <th></th>\n",
       "      <th>SendingFirmID</th>\n",
       "      <th>ProfitCount</th>\n",
       "      <th>TransactionCount</th>\n",
       "      <th>Profitability</th>\n",
       "    </tr>\n",
       "  </thead>\n",
       "  <tbody>\n",
       "    <tr>\n",
       "      <th>9092</th>\n",
       "      <td>901167</td>\n",
       "      <td>14</td>\n",
       "      <td>14</td>\n",
       "      <td>1</td>\n",
       "    </tr>\n",
       "    <tr>\n",
       "      <th>18794</th>\n",
       "      <td>10200696</td>\n",
       "      <td>15</td>\n",
       "      <td>15</td>\n",
       "      <td>1</td>\n",
       "    </tr>\n",
       "    <tr>\n",
       "      <th>17055</th>\n",
       "      <td>13200427</td>\n",
       "      <td>7</td>\n",
       "      <td>7</td>\n",
       "      <td>1</td>\n",
       "    </tr>\n",
       "    <tr>\n",
       "      <th>7874</th>\n",
       "      <td>522821</td>\n",
       "      <td>18</td>\n",
       "      <td>18</td>\n",
       "      <td>1</td>\n",
       "    </tr>\n",
       "    <tr>\n",
       "      <th>17073</th>\n",
       "      <td>80100417</td>\n",
       "      <td>12</td>\n",
       "      <td>12</td>\n",
       "      <td>1</td>\n",
       "    </tr>\n",
       "    <tr>\n",
       "      <th>18759</th>\n",
       "      <td>10251527</td>\n",
       "      <td>28</td>\n",
       "      <td>28</td>\n",
       "      <td>1</td>\n",
       "    </tr>\n",
       "    <tr>\n",
       "      <th>18790</th>\n",
       "      <td>10249557</td>\n",
       "      <td>13</td>\n",
       "      <td>13</td>\n",
       "      <td>1</td>\n",
       "    </tr>\n",
       "    <tr>\n",
       "      <th>18791</th>\n",
       "      <td>10200234</td>\n",
       "      <td>13</td>\n",
       "      <td>13</td>\n",
       "      <td>1</td>\n",
       "    </tr>\n",
       "    <tr>\n",
       "      <th>18777</th>\n",
       "      <td>10202097</td>\n",
       "      <td>20</td>\n",
       "      <td>20</td>\n",
       "      <td>1</td>\n",
       "    </tr>\n",
       "    <tr>\n",
       "      <th>16985</th>\n",
       "      <td>9800104</td>\n",
       "      <td>5</td>\n",
       "      <td>5</td>\n",
       "      <td>1</td>\n",
       "    </tr>\n",
       "    <tr>\n",
       "      <th>6712</th>\n",
       "      <td>520792</td>\n",
       "      <td>2</td>\n",
       "      <td>2</td>\n",
       "      <td>1</td>\n",
       "    </tr>\n",
       "    <tr>\n",
       "      <th>7365</th>\n",
       "      <td>522867</td>\n",
       "      <td>3</td>\n",
       "      <td>3</td>\n",
       "      <td>1</td>\n",
       "    </tr>\n",
       "    <tr>\n",
       "      <th>18653</th>\n",
       "      <td>10202619</td>\n",
       "      <td>9</td>\n",
       "      <td>9</td>\n",
       "      <td>1</td>\n",
       "    </tr>\n",
       "    <tr>\n",
       "      <th>8196</th>\n",
       "      <td>517902</td>\n",
       "      <td>26</td>\n",
       "      <td>26</td>\n",
       "      <td>1</td>\n",
       "    </tr>\n",
       "    <tr>\n",
       "      <th>18677</th>\n",
       "      <td>10251734</td>\n",
       "      <td>12</td>\n",
       "      <td>12</td>\n",
       "      <td>1</td>\n",
       "    </tr>\n",
       "  </tbody>\n",
       "</table>\n",
       "</div>"
      ],
      "text/plain": [
       "       SendingFirmID  ProfitCount  TransactionCount  Profitability\n",
       "9092          901167           14                14              1\n",
       "18794       10200696           15                15              1\n",
       "17055       13200427            7                 7              1\n",
       "7874          522821           18                18              1\n",
       "17073       80100417           12                12              1\n",
       "18759       10251527           28                28              1\n",
       "18790       10249557           13                13              1\n",
       "18791       10200234           13                13              1\n",
       "18777       10202097           20                20              1\n",
       "16985        9800104            5                 5              1\n",
       "6712          520792            2                 2              1\n",
       "7365          522867            3                 3              1\n",
       "18653       10202619            9                 9              1\n",
       "8196          517902           26                26              1\n",
       "18677       10251734           12                12              1"
      ]
     },
     "execution_count": 22,
     "metadata": {},
     "output_type": "execute_result"
    }
   ],
   "source": [
    "## which is the best and the worst node in terms of ability to deliver ?\n",
    "## Look at Profitability \n",
    "\n",
    "df_firm_profits_info = df_firm_profits_info.sort(['Profitability'], ascending=False)\n",
    "df_firm_profits_info.head(15)"
   ]
  },
  {
   "cell_type": "code",
   "execution_count": 23,
   "metadata": {
    "collapsed": false
   },
   "outputs": [
    {
     "data": {
      "text/html": [
       "<div>\n",
       "<table border=\"1\" class=\"dataframe\">\n",
       "  <thead>\n",
       "    <tr style=\"text-align: right;\">\n",
       "      <th></th>\n",
       "      <th>SendingFirmID</th>\n",
       "      <th>ProfitCount</th>\n",
       "      <th>TransactionCount</th>\n",
       "      <th>Profitability</th>\n",
       "    </tr>\n",
       "  </thead>\n",
       "  <tbody>\n",
       "    <tr>\n",
       "      <th>19229</th>\n",
       "      <td>15502113</td>\n",
       "      <td>28</td>\n",
       "      <td>52</td>\n",
       "      <td>0.538462</td>\n",
       "    </tr>\n",
       "    <tr>\n",
       "      <th>14013</th>\n",
       "      <td>2366773</td>\n",
       "      <td>1</td>\n",
       "      <td>2</td>\n",
       "      <td>0.500000</td>\n",
       "    </tr>\n",
       "    <tr>\n",
       "      <th>5642</th>\n",
       "      <td>406594</td>\n",
       "      <td>1</td>\n",
       "      <td>2</td>\n",
       "      <td>0.500000</td>\n",
       "    </tr>\n",
       "    <tr>\n",
       "      <th>11071</th>\n",
       "      <td>2322821</td>\n",
       "      <td>1</td>\n",
       "      <td>2</td>\n",
       "      <td>0.500000</td>\n",
       "    </tr>\n",
       "    <tr>\n",
       "      <th>7315</th>\n",
       "      <td>522571</td>\n",
       "      <td>1</td>\n",
       "      <td>2</td>\n",
       "      <td>0.500000</td>\n",
       "    </tr>\n",
       "    <tr>\n",
       "      <th>5736</th>\n",
       "      <td>411206</td>\n",
       "      <td>1</td>\n",
       "      <td>2</td>\n",
       "      <td>0.500000</td>\n",
       "    </tr>\n",
       "    <tr>\n",
       "      <th>19088</th>\n",
       "      <td>15507020</td>\n",
       "      <td>1</td>\n",
       "      <td>2</td>\n",
       "      <td>0.500000</td>\n",
       "    </tr>\n",
       "    <tr>\n",
       "      <th>13440</th>\n",
       "      <td>12203524</td>\n",
       "      <td>1</td>\n",
       "      <td>2</td>\n",
       "      <td>0.500000</td>\n",
       "    </tr>\n",
       "    <tr>\n",
       "      <th>8626</th>\n",
       "      <td>522568</td>\n",
       "      <td>5</td>\n",
       "      <td>10</td>\n",
       "      <td>0.500000</td>\n",
       "    </tr>\n",
       "    <tr>\n",
       "      <th>13272</th>\n",
       "      <td>2366356</td>\n",
       "      <td>1</td>\n",
       "      <td>2</td>\n",
       "      <td>0.500000</td>\n",
       "    </tr>\n",
       "    <tr>\n",
       "      <th>17095</th>\n",
       "      <td>13200221</td>\n",
       "      <td>1</td>\n",
       "      <td>2</td>\n",
       "      <td>0.500000</td>\n",
       "    </tr>\n",
       "    <tr>\n",
       "      <th>12394</th>\n",
       "      <td>2366567</td>\n",
       "      <td>1</td>\n",
       "      <td>2</td>\n",
       "      <td>0.500000</td>\n",
       "    </tr>\n",
       "    <tr>\n",
       "      <th>13925</th>\n",
       "      <td>2366175</td>\n",
       "      <td>2</td>\n",
       "      <td>4</td>\n",
       "      <td>0.500000</td>\n",
       "    </tr>\n",
       "    <tr>\n",
       "      <th>13930</th>\n",
       "      <td>2365534</td>\n",
       "      <td>2</td>\n",
       "      <td>4</td>\n",
       "      <td>0.500000</td>\n",
       "    </tr>\n",
       "    <tr>\n",
       "      <th>18772</th>\n",
       "      <td>10270050</td>\n",
       "      <td>2</td>\n",
       "      <td>5</td>\n",
       "      <td>0.400000</td>\n",
       "    </tr>\n",
       "  </tbody>\n",
       "</table>\n",
       "</div>"
      ],
      "text/plain": [
       "       SendingFirmID  ProfitCount  TransactionCount  Profitability\n",
       "19229       15502113           28                52       0.538462\n",
       "14013        2366773            1                 2       0.500000\n",
       "5642          406594            1                 2       0.500000\n",
       "11071        2322821            1                 2       0.500000\n",
       "7315          522571            1                 2       0.500000\n",
       "5736          411206            1                 2       0.500000\n",
       "19088       15507020            1                 2       0.500000\n",
       "13440       12203524            1                 2       0.500000\n",
       "8626          522568            5                10       0.500000\n",
       "13272        2366356            1                 2       0.500000\n",
       "17095       13200221            1                 2       0.500000\n",
       "12394        2366567            1                 2       0.500000\n",
       "13925        2366175            2                 4       0.500000\n",
       "13930        2365534            2                 4       0.500000\n",
       "18772       10270050            2                 5       0.400000"
      ]
     },
     "execution_count": 23,
     "metadata": {},
     "output_type": "execute_result"
    }
   ],
   "source": [
    "df_firm_profits_info.tail(15)"
   ]
  },
  {
   "cell_type": "code",
   "execution_count": 24,
   "metadata": {
    "collapsed": false
   },
   "outputs": [
    {
     "data": {
      "text/plain": [
       "count      19520.000000\n",
       "mean       41646.380966\n",
       "std       349596.789092\n",
       "min     -9266320.000000\n",
       "25%          905.160000\n",
       "50%         8521.440000\n",
       "75%        31683.000000\n",
       "max      9900850.000000\n",
       "Name: AmountReceived, dtype: float64"
      ]
     },
     "execution_count": 24,
     "metadata": {},
     "output_type": "execute_result"
    }
   ],
   "source": [
    "## is there a relation in the amount in the order and the ability to deliver by a node ?\n",
    "\n",
    "df_data['AmountReceived'].describe()"
   ]
  },
  {
   "cell_type": "code",
   "execution_count": 25,
   "metadata": {
    "collapsed": false
   },
   "outputs": [
    {
     "data": {
      "text/plain": [
       "count      16489.000000\n",
       "mean       69151.706434\n",
       "std       315611.382705\n",
       "min            0.020000\n",
       "25%         3672.560000\n",
       "50%        13060.700000\n",
       "75%        41567.100000\n",
       "max      9900850.000000\n",
       "Name: AmountReceived, dtype: float64"
      ]
     },
     "execution_count": 25,
     "metadata": {},
     "output_type": "execute_result"
    }
   ],
   "source": [
    "df_data['AmountReceived'][df_data['Profit']==1].describe()"
   ]
  },
  {
   "cell_type": "code",
   "execution_count": 26,
   "metadata": {
    "collapsed": true
   },
   "outputs": [],
   "source": [
    "## Are internal demand supply loops within nodes have any bearing on the node's ability to deliver ?\n",
    "\n",
    "df_data['SelfLoop'] = np.where(df_data['SendingFirmID'] == df_data['ReceivingFirmID'], 1, 0 )"
   ]
  },
  {
   "cell_type": "code",
   "execution_count": 27,
   "metadata": {
    "collapsed": false
   },
   "outputs": [
    {
     "data": {
      "text/html": [
       "<div>\n",
       "<table border=\"1\" class=\"dataframe\">\n",
       "  <thead>\n",
       "    <tr style=\"text-align: right;\">\n",
       "      <th></th>\n",
       "      <th>SendingFirmID</th>\n",
       "      <th>ReceivingFirmID</th>\n",
       "      <th>StartDate</th>\n",
       "      <th>EndDate</th>\n",
       "      <th>AmountReceived</th>\n",
       "      <th>AmountSent</th>\n",
       "      <th>ColG</th>\n",
       "      <th>ColH</th>\n",
       "      <th>ColI</th>\n",
       "      <th>ColJ</th>\n",
       "      <th>ColK</th>\n",
       "      <th>SomeCode</th>\n",
       "      <th>Profit</th>\n",
       "      <th>SelfLoop</th>\n",
       "    </tr>\n",
       "  </thead>\n",
       "  <tbody>\n",
       "    <tr>\n",
       "      <th>0</th>\n",
       "      <td>153114</td>\n",
       "      <td>153114</td>\n",
       "      <td>40100</td>\n",
       "      <td>43000</td>\n",
       "      <td>2.29</td>\n",
       "      <td>2.31</td>\n",
       "      <td>0.71</td>\n",
       "      <td>0.00</td>\n",
       "      <td>0</td>\n",
       "      <td>0.000</td>\n",
       "      <td>0.30775</td>\n",
       "      <td>AR</td>\n",
       "      <td>1</td>\n",
       "      <td>1</td>\n",
       "    </tr>\n",
       "    <tr>\n",
       "      <th>1</th>\n",
       "      <td>153114</td>\n",
       "      <td>153114</td>\n",
       "      <td>110100</td>\n",
       "      <td>113000</td>\n",
       "      <td>-65744.30</td>\n",
       "      <td>-65744.30</td>\n",
       "      <td>-20232.80</td>\n",
       "      <td>0.00</td>\n",
       "      <td>0</td>\n",
       "      <td>0.000</td>\n",
       "      <td>0.30775</td>\n",
       "      <td>AR</td>\n",
       "      <td>0</td>\n",
       "      <td>1</td>\n",
       "    </tr>\n",
       "    <tr>\n",
       "      <th>2</th>\n",
       "      <td>153114</td>\n",
       "      <td>153114</td>\n",
       "      <td>110100</td>\n",
       "      <td>113000</td>\n",
       "      <td>67949.90</td>\n",
       "      <td>67949.90</td>\n",
       "      <td>20232.10</td>\n",
       "      <td>0.00</td>\n",
       "      <td>0</td>\n",
       "      <td>0.000</td>\n",
       "      <td>0.29775</td>\n",
       "      <td>AU</td>\n",
       "      <td>1</td>\n",
       "      <td>1</td>\n",
       "    </tr>\n",
       "    <tr>\n",
       "      <th>4</th>\n",
       "      <td>113906</td>\n",
       "      <td>113906</td>\n",
       "      <td>90100</td>\n",
       "      <td>93000</td>\n",
       "      <td>2988.00</td>\n",
       "      <td>2987.99</td>\n",
       "      <td>855.91</td>\n",
       "      <td>2.99</td>\n",
       "      <td>0</td>\n",
       "      <td>0.001</td>\n",
       "      <td>0.28645</td>\n",
       "      <td>7D</td>\n",
       "      <td>1</td>\n",
       "      <td>1</td>\n",
       "    </tr>\n",
       "    <tr>\n",
       "      <th>6</th>\n",
       "      <td>113906</td>\n",
       "      <td>113906</td>\n",
       "      <td>80100</td>\n",
       "      <td>83000</td>\n",
       "      <td>-2988.00</td>\n",
       "      <td>-2987.99</td>\n",
       "      <td>-855.91</td>\n",
       "      <td>-2.99</td>\n",
       "      <td>0</td>\n",
       "      <td>0.001</td>\n",
       "      <td>0.28645</td>\n",
       "      <td>7D</td>\n",
       "      <td>0</td>\n",
       "      <td>1</td>\n",
       "    </tr>\n",
       "  </tbody>\n",
       "</table>\n",
       "</div>"
      ],
      "text/plain": [
       "   SendingFirmID  ReceivingFirmID  StartDate  EndDate  AmountReceived  \\\n",
       "0         153114           153114      40100    43000            2.29   \n",
       "1         153114           153114     110100   113000       -65744.30   \n",
       "2         153114           153114     110100   113000        67949.90   \n",
       "4         113906           113906      90100    93000         2988.00   \n",
       "6         113906           113906      80100    83000        -2988.00   \n",
       "\n",
       "   AmountSent      ColG  ColH  ColI   ColJ     ColK SomeCode  Profit  SelfLoop  \n",
       "0        2.31      0.71  0.00     0  0.000  0.30775       AR       1         1  \n",
       "1   -65744.30 -20232.80  0.00     0  0.000  0.30775       AR       0         1  \n",
       "2    67949.90  20232.10  0.00     0  0.000  0.29775       AU       1         1  \n",
       "4     2987.99    855.91  2.99     0  0.001  0.28645       7D       1         1  \n",
       "6    -2987.99   -855.91 -2.99     0  0.001  0.28645       7D       0         1  "
      ]
     },
     "execution_count": 27,
     "metadata": {},
     "output_type": "execute_result"
    }
   ],
   "source": [
    "df_data[df_data['SelfLoop'] == 1].head()"
   ]
  },
  {
   "cell_type": "code",
   "execution_count": 28,
   "metadata": {
    "collapsed": false
   },
   "outputs": [
    {
     "data": {
      "text/plain": [
       "<matplotlib.axes._subplots.AxesSubplot at 0xd706b00>"
      ]
     },
     "execution_count": 28,
     "metadata": {},
     "output_type": "execute_result"
    },
    {
     "data": {
      "image/png": "[encoded data removed]",
      "text/plain": [
       "<matplotlib.figure.Figure at 0xc84ea58>"
      ]
     },
     "metadata": {},
     "output_type": "display_data"
    }
   ],
   "source": [
    "df_data.groupby(['SelfLoop', 'Profit']).size().plot(kind='bar')"
   ]
  },
  {
   "cell_type": "code",
   "execution_count": 29,
   "metadata": {
    "collapsed": false
   },
   "outputs": [
    {
     "data": {
      "text/html": [
       "<div>\n",
       "<table border=\"1\" class=\"dataframe\">\n",
       "  <thead>\n",
       "    <tr style=\"text-align: right;\">\n",
       "      <th></th>\n",
       "      <th>SendingFirmID</th>\n",
       "      <th>ReceivingFirmID</th>\n",
       "      <th>StartDate</th>\n",
       "      <th>EndDate</th>\n",
       "      <th>AmountReceived</th>\n",
       "      <th>AmountSent</th>\n",
       "      <th>ColG</th>\n",
       "      <th>ColH</th>\n",
       "      <th>ColI</th>\n",
       "      <th>ColJ</th>\n",
       "      <th>ColK</th>\n",
       "      <th>SomeCode</th>\n",
       "      <th>Profit</th>\n",
       "      <th>SelfLoop</th>\n",
       "    </tr>\n",
       "  </thead>\n",
       "  <tbody>\n",
       "    <tr>\n",
       "      <th>0</th>\n",
       "      <td>153114</td>\n",
       "      <td>153114</td>\n",
       "      <td>40100</td>\n",
       "      <td>43000</td>\n",
       "      <td>2.29</td>\n",
       "      <td>2.31</td>\n",
       "      <td>0.71</td>\n",
       "      <td>0.00</td>\n",
       "      <td>0</td>\n",
       "      <td>0.000</td>\n",
       "      <td>0.30775</td>\n",
       "      <td>AR</td>\n",
       "      <td>1</td>\n",
       "      <td>1</td>\n",
       "    </tr>\n",
       "    <tr>\n",
       "      <th>1</th>\n",
       "      <td>153114</td>\n",
       "      <td>153114</td>\n",
       "      <td>110100</td>\n",
       "      <td>113000</td>\n",
       "      <td>-65744.30</td>\n",
       "      <td>-65744.30</td>\n",
       "      <td>-20232.80</td>\n",
       "      <td>0.00</td>\n",
       "      <td>0</td>\n",
       "      <td>0.000</td>\n",
       "      <td>0.30775</td>\n",
       "      <td>AR</td>\n",
       "      <td>0</td>\n",
       "      <td>1</td>\n",
       "    </tr>\n",
       "    <tr>\n",
       "      <th>2</th>\n",
       "      <td>153114</td>\n",
       "      <td>153114</td>\n",
       "      <td>110100</td>\n",
       "      <td>113000</td>\n",
       "      <td>67949.90</td>\n",
       "      <td>67949.90</td>\n",
       "      <td>20232.10</td>\n",
       "      <td>0.00</td>\n",
       "      <td>0</td>\n",
       "      <td>0.000</td>\n",
       "      <td>0.29775</td>\n",
       "      <td>AU</td>\n",
       "      <td>1</td>\n",
       "      <td>1</td>\n",
       "    </tr>\n",
       "    <tr>\n",
       "      <th>4</th>\n",
       "      <td>113906</td>\n",
       "      <td>113906</td>\n",
       "      <td>90100</td>\n",
       "      <td>93000</td>\n",
       "      <td>2988.00</td>\n",
       "      <td>2987.99</td>\n",
       "      <td>855.91</td>\n",
       "      <td>2.99</td>\n",
       "      <td>0</td>\n",
       "      <td>0.001</td>\n",
       "      <td>0.28645</td>\n",
       "      <td>7D</td>\n",
       "      <td>1</td>\n",
       "      <td>1</td>\n",
       "    </tr>\n",
       "    <tr>\n",
       "      <th>6</th>\n",
       "      <td>113906</td>\n",
       "      <td>113906</td>\n",
       "      <td>80100</td>\n",
       "      <td>83000</td>\n",
       "      <td>-2988.00</td>\n",
       "      <td>-2987.99</td>\n",
       "      <td>-855.91</td>\n",
       "      <td>-2.99</td>\n",
       "      <td>0</td>\n",
       "      <td>0.001</td>\n",
       "      <td>0.28645</td>\n",
       "      <td>7D</td>\n",
       "      <td>0</td>\n",
       "      <td>1</td>\n",
       "    </tr>\n",
       "  </tbody>\n",
       "</table>\n",
       "</div>"
      ],
      "text/plain": [
       "   SendingFirmID  ReceivingFirmID  StartDate  EndDate  AmountReceived  \\\n",
       "0         153114           153114      40100    43000            2.29   \n",
       "1         153114           153114     110100   113000       -65744.30   \n",
       "2         153114           153114     110100   113000        67949.90   \n",
       "4         113906           113906      90100    93000         2988.00   \n",
       "6         113906           113906      80100    83000        -2988.00   \n",
       "\n",
       "   AmountSent      ColG  ColH  ColI   ColJ     ColK SomeCode  Profit  SelfLoop  \n",
       "0        2.31      0.71  0.00     0  0.000  0.30775       AR       1         1  \n",
       "1   -65744.30 -20232.80  0.00     0  0.000  0.30775       AR       0         1  \n",
       "2    67949.90  20232.10  0.00     0  0.000  0.29775       AU       1         1  \n",
       "4     2987.99    855.91  2.99     0  0.001  0.28645       7D       1         1  \n",
       "6    -2987.99   -855.91 -2.99     0  0.001  0.28645       7D       0         1  "
      ]
     },
     "execution_count": 29,
     "metadata": {},
     "output_type": "execute_result"
    }
   ],
   "source": [
    "df_data_onlyLoop = df_data[df_data['SelfLoop'] == 1]\n",
    "df_data_onlyLoop.head()"
   ]
  },
  {
   "cell_type": "code",
   "execution_count": 30,
   "metadata": {
    "collapsed": false
   },
   "outputs": [
    {
     "name": "stdout",
     "output_type": "stream",
     "text": [
      "13411\n",
      "Profit\n",
      "0     2437\n",
      "1    10974\n",
      "dtype: int64\n",
      "Profit\n",
      "0    0.181717\n",
      "1    0.818283\n",
      "dtype: float64\n"
     ]
    }
   ],
   "source": [
    "print df_data_onlyLoop['SendingFirmID'].count()\n",
    "print df_data_onlyLoop.groupby('Profit').size()\n",
    "\n",
    "print df_data_onlyLoop.groupby('Profit').size()/df_data_onlyLoop['SendingFirmID'].count()"
   ]
  },
  {
   "cell_type": "code",
   "execution_count": 31,
   "metadata": {
    "collapsed": false
   },
   "outputs": [
    {
     "data": {
      "text/html": [
       "<div>\n",
       "<table border=\"1\" class=\"dataframe\">\n",
       "  <thead>\n",
       "    <tr style=\"text-align: right;\">\n",
       "      <th></th>\n",
       "      <th>SendingFirmID</th>\n",
       "      <th>ReceivingFirmID</th>\n",
       "      <th>StartDate</th>\n",
       "      <th>EndDate</th>\n",
       "      <th>AmountReceived</th>\n",
       "      <th>AmountSent</th>\n",
       "      <th>ColG</th>\n",
       "      <th>ColH</th>\n",
       "      <th>ColI</th>\n",
       "      <th>ColJ</th>\n",
       "      <th>ColK</th>\n",
       "      <th>SomeCode</th>\n",
       "      <th>Profit</th>\n",
       "      <th>SelfLoop</th>\n",
       "    </tr>\n",
       "  </thead>\n",
       "  <tbody>\n",
       "    <tr>\n",
       "      <th>3</th>\n",
       "      <td>113906</td>\n",
       "      <td>1000019</td>\n",
       "      <td>90100</td>\n",
       "      <td>93000</td>\n",
       "      <td>5113.88</td>\n",
       "      <td>5113.96</td>\n",
       "      <td>1573.82</td>\n",
       "      <td>5.11</td>\n",
       "      <td>0</td>\n",
       "      <td>0.00100</td>\n",
       "      <td>0.307750</td>\n",
       "      <td>7A</td>\n",
       "      <td>1</td>\n",
       "      <td>0</td>\n",
       "    </tr>\n",
       "    <tr>\n",
       "      <th>5</th>\n",
       "      <td>113906</td>\n",
       "      <td>1000019</td>\n",
       "      <td>80100</td>\n",
       "      <td>83000</td>\n",
       "      <td>-5113.88</td>\n",
       "      <td>-5113.96</td>\n",
       "      <td>-1573.82</td>\n",
       "      <td>-5.11</td>\n",
       "      <td>0</td>\n",
       "      <td>0.00100</td>\n",
       "      <td>0.307750</td>\n",
       "      <td>7A</td>\n",
       "      <td>0</td>\n",
       "      <td>0</td>\n",
       "    </tr>\n",
       "    <tr>\n",
       "      <th>7</th>\n",
       "      <td>106483</td>\n",
       "      <td>2003855</td>\n",
       "      <td>90100</td>\n",
       "      <td>93000</td>\n",
       "      <td>-16191.00</td>\n",
       "      <td>-16191.00</td>\n",
       "      <td>-3554.94</td>\n",
       "      <td>-12.14</td>\n",
       "      <td>0</td>\n",
       "      <td>0.00075</td>\n",
       "      <td>0.219563</td>\n",
       "      <td>7B</td>\n",
       "      <td>0</td>\n",
       "      <td>0</td>\n",
       "    </tr>\n",
       "    <tr>\n",
       "      <th>8</th>\n",
       "      <td>106483</td>\n",
       "      <td>2003855</td>\n",
       "      <td>100100</td>\n",
       "      <td>103000</td>\n",
       "      <td>-10046.30</td>\n",
       "      <td>-10046.20</td>\n",
       "      <td>-2205.78</td>\n",
       "      <td>-7.53</td>\n",
       "      <td>0</td>\n",
       "      <td>0.00075</td>\n",
       "      <td>0.219563</td>\n",
       "      <td>7B</td>\n",
       "      <td>0</td>\n",
       "      <td>0</td>\n",
       "    </tr>\n",
       "    <tr>\n",
       "      <th>9</th>\n",
       "      <td>106483</td>\n",
       "      <td>2003855</td>\n",
       "      <td>110100</td>\n",
       "      <td>113000</td>\n",
       "      <td>-34074.50</td>\n",
       "      <td>-34074.50</td>\n",
       "      <td>-7481.49</td>\n",
       "      <td>-25.56</td>\n",
       "      <td>0</td>\n",
       "      <td>0.00075</td>\n",
       "      <td>0.219563</td>\n",
       "      <td>7B</td>\n",
       "      <td>0</td>\n",
       "      <td>0</td>\n",
       "    </tr>\n",
       "  </tbody>\n",
       "</table>\n",
       "</div>"
      ],
      "text/plain": [
       "   SendingFirmID  ReceivingFirmID  StartDate  EndDate  AmountReceived  \\\n",
       "3         113906          1000019      90100    93000         5113.88   \n",
       "5         113906          1000019      80100    83000        -5113.88   \n",
       "7         106483          2003855      90100    93000       -16191.00   \n",
       "8         106483          2003855     100100   103000       -10046.30   \n",
       "9         106483          2003855     110100   113000       -34074.50   \n",
       "\n",
       "   AmountSent     ColG   ColH  ColI     ColJ      ColK SomeCode  Profit  \\\n",
       "3     5113.96  1573.82   5.11     0  0.00100  0.307750       7A       1   \n",
       "5    -5113.96 -1573.82  -5.11     0  0.00100  0.307750       7A       0   \n",
       "7   -16191.00 -3554.94 -12.14     0  0.00075  0.219563       7B       0   \n",
       "8   -10046.20 -2205.78  -7.53     0  0.00075  0.219563       7B       0   \n",
       "9   -34074.50 -7481.49 -25.56     0  0.00075  0.219563       7B       0   \n",
       "\n",
       "   SelfLoop  \n",
       "3         0  \n",
       "5         0  \n",
       "7         0  \n",
       "8         0  \n",
       "9         0  "
      ]
     },
     "execution_count": 31,
     "metadata": {},
     "output_type": "execute_result"
    }
   ],
   "source": [
    "## So only 81.8% of the times, having a self loop has lead to profit\n",
    "\n",
    "## Now what about non-loop Xn ?\n",
    "\n",
    "df_data_noLoop = df_data[df_data['SelfLoop'] == 0]\n",
    "df_data_noLoop.head()"
   ]
  },
  {
   "cell_type": "code",
   "execution_count": 32,
   "metadata": {
    "collapsed": false
   },
   "outputs": [
    {
     "name": "stdout",
     "output_type": "stream",
     "text": [
      "6109\n",
      "Profit\n",
      "0     594\n",
      "1    5515\n",
      "dtype: int64\n",
      "Profit\n",
      "0    0.097234\n",
      "1    0.902766\n",
      "dtype: float64\n"
     ]
    }
   ],
   "source": [
    "print df_data_noLoop['SendingFirmID'].count()\n",
    "print df_data_noLoop.groupby('Profit').size()\n",
    "\n",
    "print df_data_noLoop.groupby('Profit').size()/df_data_noLoop['SendingFirmID'].count()"
   ]
  },
  {
   "cell_type": "code",
   "execution_count": null,
   "metadata": {
    "collapsed": true
   },
   "outputs": [],
   "source": []
  },
  {
   "cell_type": "code",
   "execution_count": null,
   "metadata": {
    "collapsed": true
   },
   "outputs": [],
   "source": []
  }
 ],
 "metadata": {
  "kernelspec": {
   "display_name": "Python 2",
   "language": "python",
   "name": "python2"
  },
  "language_info": {
   "codemirror_mode": {
    "name": "ipython",
    "version": 2
   },
   "file_extension": ".py",
   "mimetype": "text/x-python",
   "name": "python",
   "nbconvert_exporter": "python",
   "pygments_lexer": "ipython2",
   "version": "2.7.11"
  }
 },
 "nbformat": 4,
 "nbformat_minor": 0
}
